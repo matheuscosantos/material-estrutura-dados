{
 "cells": [
  {
   "cell_type": "markdown",
   "metadata": {},
   "source": [
    "# Matheus da Cruz Oliveira dos Santos"
   ]
  },
  {
   "cell_type": "markdown",
   "metadata": {},
   "source": [
    "## Busca Binária"
   ]
  },
  {
   "cell_type": "code",
   "execution_count": 1,
   "metadata": {},
   "outputs": [
    {
     "name": "stdout",
     "output_type": "stream",
     "text": [
      "Elemento encontrado na posição: -1\n"
     ]
    }
   ],
   "source": [
    "from math import floor  \n",
    "\n",
    "lista = [4,5,6,7,8,9,10,12,16,17,18,33,55,66,76,78,79,82,84,86]\n",
    "\n",
    "def buscaBin(lista, numero):\n",
    "    \n",
    "    inicio = 0\n",
    "    fim = len(lista) - 1  \n",
    "    \n",
    "    while inicio != fim :\n",
    "        meio = (inicio + fim) // 2       \n",
    "        if lista[meio] == numero:            \n",
    "            #print(\"Elemento encontrado na posição\", meio)\n",
    "            return meio\n",
    "        elif numero > lista[meio]:\n",
    "            inicio = meio + 1\n",
    "        else:\n",
    "            fim = meio - 1 \n",
    "        \n",
    "    return -1             \n",
    "\n",
    "        \n",
    "print(\"Elemento encontrado na posição:\",buscaBin(lista,1))"
   ]
  },
  {
   "cell_type": "markdown",
   "metadata": {},
   "source": [
    "## Insertion Sort"
   ]
  },
  {
   "cell_type": "code",
   "execution_count": 2,
   "metadata": {},
   "outputs": [
    {
     "name": "stdout",
     "output_type": "stream",
     "text": [
      "[0, 1, 2, 3, 4, 5, 6, 7]\n"
     ]
    }
   ],
   "source": [
    "def inserção(v):  ## Melhor N, Médio n**2, Pior n**2\n",
    " for j in range(1, len(v)):\n",
    "   x = v[j]\n",
    "   i = j - 1\n",
    "   while i >= 0 and v[i] > x:\n",
    "     v[i + 1] = v[i]\n",
    "     i = i - 1\n",
    "   v[i + 1] = x\n",
    " return v\n",
    "\n",
    "print (inserção([3, 0, 1, 2, 5, 7, 6, 4]))\n",
    "\n"
   ]
  },
  {
   "cell_type": "markdown",
   "metadata": {},
   "source": [
    "## Selection Sort"
   ]
  },
  {
   "cell_type": "code",
   "execution_count": 3,
   "metadata": {},
   "outputs": [
    {
     "name": "stdout",
     "output_type": "stream",
     "text": [
      "[0, 1, 2, 3, 4, 5, 6, 7]\n"
     ]
    }
   ],
   "source": [
    "def selection(v):  # Sempre retorna N**2\n",
    "  resp = []\n",
    "  while v:\n",
    "    m = min(v)\n",
    "    resp.append(m)\n",
    "    v.remove(m)\n",
    "  return resp\n",
    "\n",
    "print(selection([3, 0, 1, 2, 5, 7, 6, 4]))"
   ]
  },
  {
   "cell_type": "markdown",
   "metadata": {},
   "source": [
    "## MergeSort"
   ]
  },
  {
   "cell_type": "code",
   "execution_count": 4,
   "metadata": {},
   "outputs": [
    {
     "name": "stdout",
     "output_type": "stream",
     "text": [
      "[0, 1, 2, 3, 4, 5, 6, 7, 8, 9]\n"
     ]
    }
   ],
   "source": [
    "def mergeSort(arr):  \n",
    "    \n",
    "    if len(arr) >1: \n",
    "        mid = len(arr)//2  \n",
    "        L = arr[:mid]   \n",
    "        R = arr[mid:]  \n",
    "  \n",
    "        mergeSort(L) \n",
    "        mergeSort(R) \n",
    "  \n",
    "        i = j = k = 0\n",
    "          \n",
    "       \n",
    "        while i < len(L) and j < len(R): \n",
    "            if L[i] < R[j]: \n",
    "                arr[k] = L[i] \n",
    "                i+=1\n",
    "            else: \n",
    "                arr[k] = R[j] \n",
    "                j+=1\n",
    "            k+=1\n",
    "        \n",
    "        while i < len(L): \n",
    "            arr[k] = L[i] \n",
    "            i+=1\n",
    "            k+=1\n",
    "          \n",
    "        while j < len(R): \n",
    "            arr[k] = R[j] \n",
    "            j+=1\n",
    "            k+=1 \n",
    "        return arr\n",
    "\n",
    "    \n",
    "print(mergeSort([2,7,0,3,4,9,8,1,5,6]))\n",
    "            \n",
    "            "
   ]
  },
  {
   "cell_type": "markdown",
   "metadata": {},
   "source": [
    "## QuickSort"
   ]
  },
  {
   "cell_type": "code",
   "execution_count": 5,
   "metadata": {},
   "outputs": [
    {
     "name": "stdout",
     "output_type": "stream",
     "text": [
      "[0, 1, 2, 3, 4, 5, 6, 7, 8, 9]\n"
     ]
    }
   ],
   "source": [
    "def quickSort(lista):    \n",
    "    if len(lista) <= 1:\n",
    "        return lista    \n",
    "    pivo = lista[0]\n",
    "    iguais = [x for x in lista if x == pivo]\n",
    "    menores = [x for x in lista if x < pivo]\n",
    "    maiores = [x for x in lista if x > pivo]\n",
    "    return  quickSort(menores)+iguais+quickSort(maiores)\n",
    "\n",
    "\n",
    "print(quickSort([2,7,0,3,4,9,8,1,5,6]))\n"
   ]
  },
  {
   "cell_type": "markdown",
   "metadata": {},
   "source": [
    "## Comparação dos ordenadores"
   ]
  },
  {
   "cell_type": "code",
   "execution_count": 6,
   "metadata": {},
   "outputs": [
    {
     "name": "stdout",
     "output_type": "stream",
     "text": [
      "----------------------------------------------------------------------------\n",
      "           |                     time(s)                      |             \n",
      "----------------------------------------------------------------------------\n",
      "           |  Mergesort | Quicksort  |  Selection  |  Native  |             \n",
      "2000           0.03        0.0032       0.04       0.0000043\n",
      "4000           0.02        0.0039       0.15       0.0000045\n",
      "6000           0.03        0.0046       0.33       0.0000050\n",
      "8000           0.04        0.0060       0.61       0.0000052\n",
      "10000           0.06        0.0074       0.99       0.0000048\n",
      "12000           0.08        0.0094       1.43       0.0000062\n",
      "14000           0.08        0.0106       1.78       0.0000048\n",
      "16000           0.09        0.0117       2.28       0.0000050\n",
      "18000           0.10        0.0131       2.90       0.0000043\n",
      "20000           0.11        0.0147       3.58       0.0000050\n",
      "22000           0.13        0.0161       4.32       0.0000048\n"
     ]
    }
   ],
   "source": [
    "from random import randint\n",
    "import time\n",
    "\n",
    "tamanho = 2000\n",
    "a = []\n",
    "\n",
    "tempoMerge = 0\n",
    "tempoQuick = 0\n",
    "tempoSelection = 0\n",
    "tempoSort = 0\n",
    "\n",
    "print('----------------------------------------------------------------------------')\n",
    "print('           |                     time(s)                      |             ')\n",
    "print('----------------------------------------------------------------------------')\n",
    "print('           |  Mergesort | Quicksort  |  Selection  |  Native  |             ')\n",
    "\n",
    "while tamanho <= 22000:\n",
    "    while len(a) < tamanho:\n",
    "        a.append(randint(0,9))\n",
    "    \n",
    "    \n",
    "    start = time.time()\n",
    "    mergeSort(a)\n",
    "    end = time.time() \n",
    "    tempoMerge = end - start\n",
    "    \n",
    "    start = 0\n",
    "    end = 0\n",
    "    \n",
    "    start = time.time()\n",
    "    quickSort(a)\n",
    "    end = time.time() \n",
    "    tempoQuick = end - start\n",
    "    \n",
    "    start = 0\n",
    "    end = 0\n",
    "    \n",
    "    start = time.time()\n",
    "    selection(a)\n",
    "    end = time.time() \n",
    "    tempoSelection = end - start\n",
    "    \n",
    "    start = 0\n",
    "    end = 0\n",
    "    \n",
    "    start = time.time()\n",
    "    sorted(a)\n",
    "    end = time.time()\n",
    "    tempoSort = end - start\n",
    "    \n",
    "    \n",
    "    print(tamanho,'         ',\"%.2f\" % tempoMerge,'      ','%.4f'%tempoQuick,'     ','%.2f'%tempoSelection,'     ','%.7f'%tempoSort)\n",
    "    tamanho = tamanho + 2000\n",
    "\n"
   ]
  }
 ],
 "metadata": {
  "kernelspec": {
   "display_name": "Python 3",
   "language": "python",
   "name": "python3"
  },
  "language_info": {
   "codemirror_mode": {
    "name": "ipython",
    "version": 3
   },
   "file_extension": ".py",
   "mimetype": "text/x-python",
   "name": "python",
   "nbconvert_exporter": "python",
   "pygments_lexer": "ipython3",
   "version": "3.6.7"
  }
 },
 "nbformat": 4,
 "nbformat_minor": 2
}
