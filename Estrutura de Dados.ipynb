{
 "cells": [
  {
   "cell_type": "markdown",
   "metadata": {},
   "source": [
    "# Matéria de Estrutura de dados"
   ]
  },
  {
   "cell_type": "markdown",
   "metadata": {},
   "source": [
    "## Somatoria"
   ]
  },
  {
   "cell_type": "code",
   "execution_count": 1,
   "metadata": {},
   "outputs": [
    {
     "name": "stdout",
     "output_type": "stream",
     "text": [
      "15\n"
     ]
    }
   ],
   "source": [
    "def somatoria(n):\n",
    "    if n == 1:\n",
    "        return 1\n",
    "    else:\n",
    "        return n + somatoria(n-1)\n",
    "    \n",
    "print(somatoria(5))"
   ]
  },
  {
   "cell_type": "markdown",
   "metadata": {},
   "source": [
    "## Fatorial"
   ]
  },
  {
   "cell_type": "code",
   "execution_count": 2,
   "metadata": {},
   "outputs": [
    {
     "name": "stdout",
     "output_type": "stream",
     "text": [
      "24\n"
     ]
    }
   ],
   "source": [
    "def fat(i):\n",
    "    if i <= 1:\n",
    "        return 1\n",
    "    else:\n",
    "        return i * fat(i - 1)\n",
    "    \n",
    "print(fat(4))"
   ]
  },
  {
   "cell_type": "markdown",
   "metadata": {},
   "source": [
    "## Torre de Hanoi"
   ]
  },
  {
   "cell_type": "code",
   "execution_count": 3,
   "metadata": {},
   "outputs": [
    {
     "name": "stdout",
     "output_type": "stream",
     "text": [
      "7\n"
     ]
    }
   ],
   "source": [
    "def torre(n):\n",
    "    if n <= 1:\n",
    "        return 1\n",
    "    else:\n",
    "        return 2*torre(n-1)+1\n",
    "    \n",
    "print(torre(3))"
   ]
  },
  {
   "cell_type": "markdown",
   "metadata": {},
   "source": [
    "## Exponencial\n"
   ]
  },
  {
   "cell_type": "code",
   "execution_count": 4,
   "metadata": {},
   "outputs": [
    {
     "name": "stdout",
     "output_type": "stream",
     "text": [
      "2187\n"
     ]
    }
   ],
   "source": [
    "def exp(x,y):\n",
    "    if y == 0:\n",
    "        return 1\n",
    "    elif y == 1: \n",
    "        return x\n",
    "    else:\n",
    "        return x * exp(x,y-1)\n",
    "    \n",
    "print(exp(3,7))"
   ]
  },
  {
   "cell_type": "markdown",
   "metadata": {},
   "source": [
    "## Inverte String"
   ]
  },
  {
   "cell_type": "code",
   "execution_count": 5,
   "metadata": {},
   "outputs": [
    {
     "name": "stdout",
     "output_type": "stream",
     "text": [
      "suehtam\n"
     ]
    }
   ],
   "source": [
    "def inverteStr(x):\n",
    "    if len(x)== 1:\n",
    "        return x\n",
    "    else: \n",
    "        return x[-1] + inverteStr(x[:-1])\n",
    "    \n",
    "print(inverteStr(\"matheus\"))"
   ]
  },
  {
   "cell_type": "markdown",
   "metadata": {},
   "source": [
    "## Fibonacci utilizando alocação de recursos do Windows"
   ]
  },
  {
   "cell_type": "code",
   "execution_count": 6,
   "metadata": {},
   "outputs": [
    {
     "name": "stdout",
     "output_type": "stream",
     "text": [
      "832040\n"
     ]
    }
   ],
   "source": [
    "from functools import lru_cache\n",
    "@lru_cache(maxsize = None)\n",
    "def fib(n):\n",
    "    if n == 1 or n == 2:\n",
    "        return 1\n",
    "    else:\n",
    "        return fib(n-1) + fib(n-2)\n",
    "\n",
    "print(fib(30))"
   ]
  },
  {
   "cell_type": "markdown",
   "metadata": {},
   "source": [
    "## Fibonacci utilizando o dictionary"
   ]
  },
  {
   "cell_type": "code",
   "execution_count": 7,
   "metadata": {},
   "outputs": [
    {
     "name": "stdout",
     "output_type": "stream",
     "text": [
      "6765\n"
     ]
    }
   ],
   "source": [
    "from functools import lru_cache\n",
    "f = {}\n",
    "def fib(n):\n",
    "    if n == 1 or n == 2:\n",
    "        return 1\n",
    "    else:\n",
    "        if n not in f:\n",
    "            f[n] = fib(n-1) + fib(n-2)\n",
    "        return f[n]        \n",
    "\n",
    "print(fib(20))"
   ]
  },
  {
   "cell_type": "markdown",
   "metadata": {},
   "source": [
    "## Busca Binária"
   ]
  },
  {
   "cell_type": "code",
   "execution_count": 8,
   "metadata": {},
   "outputs": [
    {
     "name": "stdout",
     "output_type": "stream",
     "text": [
      "Elemento encontrado na posição: -1\n"
     ]
    }
   ],
   "source": [
    "from math import floor  \n",
    "\n",
    "lista = [4,5,6,7,8,9,10,12,16,17,18,33,55,66,76,78,79,82,84,86]\n",
    "\n",
    "def buscaBin(lista, numero):\n",
    "    \n",
    "    inicio = 0\n",
    "    fim = len(lista) - 1  \n",
    "    \n",
    "    while inicio != fim :\n",
    "        meio = (inicio + fim) // 2       \n",
    "        if lista[meio] == numero:            \n",
    "            #print(\"Elemento encontrado na posição\", meio)\n",
    "            return meio\n",
    "        elif numero > lista[meio]:\n",
    "            inicio = meio + 1\n",
    "        else:\n",
    "            fim = meio - 1 \n",
    "        \n",
    "    return -1             \n",
    "\n",
    "        \n",
    "print(\"Elemento encontrado na posição:\",buscaBin(lista,1))"
   ]
  },
  {
   "cell_type": "markdown",
   "metadata": {},
   "source": [
    "## Complexidade "
   ]
  },
  {
   "attachments": {
    "complexidade_Sort.png": {
     "image/png": "[encoded data removed]"
    }
   },
   "cell_type": "markdown",
   "metadata": {},
   "source": [
    "![complexidade_Sort.png](attachment:complexidade_Sort.png)"
   ]
  },
  {
   "cell_type": "markdown",
   "metadata": {},
   "source": [
    "## Insertion Sort"
   ]
  },
  {
   "cell_type": "code",
   "execution_count": 9,
   "metadata": {},
   "outputs": [
    {
     "name": "stdout",
     "output_type": "stream",
     "text": [
      "[0, 1, 2, 3, 4, 5, 6, 7]\n"
     ]
    }
   ],
   "source": [
    "def inserção(v):  ## Melhor N, Médio n**2, Pior n**2\n",
    " for j in range(1, len(v)):\n",
    "   x = v[j]\n",
    "   i = j - 1\n",
    "   while i >= 0 and v[i] > x:\n",
    "     v[i + 1] = v[i]\n",
    "     i = i - 1\n",
    "   v[i + 1] = x\n",
    " return v\n",
    "\n",
    "print (inserção([3, 0, 1, 2, 5, 7, 6, 4]))\n",
    "\n"
   ]
  },
  {
   "cell_type": "markdown",
   "metadata": {},
   "source": [
    "## Selection Sort"
   ]
  },
  {
   "cell_type": "code",
   "execution_count": 10,
   "metadata": {},
   "outputs": [
    {
     "name": "stdout",
     "output_type": "stream",
     "text": [
      "[0, 1, 2, 3, 4, 5, 6, 7]\n"
     ]
    }
   ],
   "source": [
    "def selection(v):  # Sempre retorna N**2\n",
    "  resp = []\n",
    "  while v:\n",
    "    m = min(v)\n",
    "    resp.append(m)\n",
    "    v.remove(m)\n",
    "  return resp\n",
    "\n",
    "print(selection([3, 0, 1, 2, 5, 7, 6, 4]))"
   ]
  },
  {
   "cell_type": "markdown",
   "metadata": {},
   "source": [
    "## MergeSort"
   ]
  },
  {
   "cell_type": "code",
   "execution_count": 11,
   "metadata": {},
   "outputs": [
    {
     "name": "stdout",
     "output_type": "stream",
     "text": [
      "[0, 1, 2, 3, 4, 5, 6, 7, 8, 9]\n"
     ]
    }
   ],
   "source": [
    "def mergeSort(arr):  \n",
    "    \n",
    "    if len(arr) >1: \n",
    "        mid = len(arr)//2  \n",
    "        L = arr[:mid]   \n",
    "        R = arr[mid:]  \n",
    "  \n",
    "        mergeSort(L) \n",
    "        mergeSort(R) \n",
    "  \n",
    "        i = j = k = 0\n",
    "          \n",
    "       \n",
    "        while i < len(L) and j < len(R): \n",
    "            if L[i] < R[j]: \n",
    "                arr[k] = L[i] \n",
    "                i+=1\n",
    "            else: \n",
    "                arr[k] = R[j] \n",
    "                j+=1\n",
    "            k+=1\n",
    "        \n",
    "        while i < len(L): \n",
    "            arr[k] = L[i] \n",
    "            i+=1\n",
    "            k+=1\n",
    "          \n",
    "        while j < len(R): \n",
    "            arr[k] = R[j] \n",
    "            j+=1\n",
    "            k+=1 \n",
    "        return arr\n",
    "\n",
    "    \n",
    "print(mergeSort([2,7,0,3,4,9,8,1,5,6]))\n",
    "            \n",
    "            "
   ]
  },
  {
   "cell_type": "markdown",
   "metadata": {},
   "source": [
    "## QuickSort"
   ]
  },
  {
   "attachments": {
    "QuickSort2.png": {
     "image/png": "[encoded data removed]"
    }
   },
   "cell_type": "markdown",
   "metadata": {},
   "source": [
    "![QuickSort2.png](attachment:QuickSort2.png)\n"
   ]
  },
  {
   "cell_type": "code",
   "execution_count": 12,
   "metadata": {},
   "outputs": [
    {
     "name": "stdout",
     "output_type": "stream",
     "text": [
      "[0, 1, 2, 3, 4, 5, 6, 7, 8, 9]\n"
     ]
    }
   ],
   "source": [
    "def quickSort(lista):    \n",
    "    if len(lista) <= 1:\n",
    "        return lista    \n",
    "    pivo = lista[0]\n",
    "    iguais = [x for x in lista if x == pivo]\n",
    "    menores = [x for x in lista if x < pivo]\n",
    "    maiores = [x for x in lista if x > pivo]\n",
    "    return  quickSort(menores)+iguais+quickSort(maiores)\n",
    "\n",
    "\n",
    "print(quickSort([2,7,0,3,4,9,8,1,5,6]))\n"
   ]
  },
  {
   "cell_type": "markdown",
   "metadata": {},
   "source": [
    "## Comparação dos ordenadores"
   ]
  },
  {
   "cell_type": "code",
   "execution_count": 13,
   "metadata": {},
   "outputs": [
    {
     "name": "stdout",
     "output_type": "stream",
     "text": [
      "----------------------------------------------------------------------------\n",
      "           |                     time(s)                      |             \n",
      "----------------------------------------------------------------------------\n",
      "           |  Mergesort | Quicksort  |  Selection  |  Native  |             \n",
      "2000           0.02        0.0025       0.04       0.0000029\n",
      "4000           0.02        0.0030       0.14       0.0000029\n",
      "6000           0.03        0.0048       0.32       0.0000048\n",
      "8000           0.04        0.0059       0.59       0.0000043\n",
      "10000           0.06        0.0087       0.91       0.0000055\n",
      "12000           0.06        0.0087       1.30       0.0000041\n",
      "14000           0.08        0.0108       1.80       0.0000048\n",
      "16000           0.09        0.0118       2.38       0.0000043\n",
      "18000           0.10        0.0131       3.02       0.0000043\n",
      "20000           0.12        0.0154       3.72       0.0000048\n",
      "22000           0.14        0.0171       4.47       0.0000048\n"
     ]
    }
   ],
   "source": [
    "from random import randint\n",
    "import time\n",
    "\n",
    "tamanho = 2000\n",
    "a = []\n",
    "\n",
    "tempoMerge = 0\n",
    "tempoQuick = 0\n",
    "tempoSelection = 0\n",
    "tempoSort = 0\n",
    "\n",
    "print('----------------------------------------------------------------------------')\n",
    "print('           |                     time(s)                      |             ')\n",
    "print('----------------------------------------------------------------------------')\n",
    "print('           |  Mergesort | Quicksort  |  Selection  |  Native  |             ')\n",
    "\n",
    "while tamanho <= 22000:\n",
    "    while len(a) < tamanho:\n",
    "        a.append(randint(0,9))\n",
    "    \n",
    "    \n",
    "    start = time.time()\n",
    "    mergeSort(a)\n",
    "    end = time.time() \n",
    "    tempoMerge = end - start\n",
    "    \n",
    "    start = 0\n",
    "    end = 0\n",
    "    \n",
    "    start = time.time()\n",
    "    quickSort(a)\n",
    "    end = time.time() \n",
    "    tempoQuick = end - start\n",
    "    \n",
    "    start = 0\n",
    "    end = 0\n",
    "    \n",
    "    start = time.time()\n",
    "    selection(a)\n",
    "    end = time.time() \n",
    "    tempoSelection = end - start\n",
    "    \n",
    "    start = 0\n",
    "    end = 0\n",
    "    \n",
    "    start = time.time()\n",
    "    sorted(a)\n",
    "    end = time.time()\n",
    "    tempoSort = end - start\n",
    "    \n",
    "    \n",
    "    print(tamanho,'         ',\"%.2f\" % tempoMerge,'      ','%.4f'%tempoQuick,'     ','%.2f'%tempoSelection,'     ','%.7f'%tempoSort)\n",
    "    tamanho = tamanho + 2000\n",
    "\n"
   ]
  },
  {
   "cell_type": "markdown",
   "metadata": {},
   "source": [
    "## Backtracking\n",
    "## Quais problemas resolvem?\n",
    "### Subconjuntos:\n",
    "    Tenho 50 linhas de transmissão de energia elétrica para São Paulo, capital. Tive um blackout de 10MW, quais linhas estão com defeito.\n",
    "    Gero todos os subconjuntos entre as 50 linhas e vejo quais a soma da capacidade é 10MW\n",
    "    \n",
    "    Na corte do Rei Arthur temos várias damas em idade de casar. Elas fazem uma lista dos \"queridinhos\". O Rei quer saber se alguma vai ficar para titia.\n",
    "    Gero todos os subconjuntos de damas e vejo se a intersecção dos queridinhos diferentes é menor.\n",
    "    \n",
    "    Prestem atenção no algoritmo:\n",
    "    Seja n o número de elementos\n",
    "    1) Aumenta de 1 em 1 até o máximo\n",
    "    2) Se chegou no máximo, apaga o último e incrementa o anterior de 1\n",
    "    3) Passo 1 sempre tem prioridade\n",
    "    4) Termino quando não tiver anterior para incrementar\n",
    "    \n",
    "    Exemplo: n = 3\n",
    "    1\n",
    "    1 2\n",
    "    1 2 3\n",
    "    1 3\n",
    "    2\n",
    "    2 3\n",
    "    3\n",
    "    \n",
    "    Exemplo: n = 4\n",
    "    1\n",
    "    1 2\n",
    "    1 2 3 \n",
    "    1 2 3 4\n",
    "    1 2 4\n",
    "    1 3\n",
    "    2 \n",
    "    2 3 \n",
    "    2 3 4\n",
    "    2 4\n",
    "    3\n",
    "    3 4\n",
    "    4 \n",
    "    \n",
    "    Exemplo: n = 5\n",
    "    1\n",
    "    1 2\n",
    "    1 2 3\n",
    "    1 2 3 4\n",
    "    1 2 3 4 5\n",
    "    1 2 3 5\n",
    "    1 2 4\n",
    "    1 2 4 5\n",
    "    1 2 5\n",
    "    1 3 \n",
    "    1 3 4\n",
    "    1 3 4 5\n",
    "    1 3 5\n",
    "    1 4\n",
    "    1 4 5\n",
    "    1 5\n",
    "    2\n",
    "    2 3 \n",
    "    2 3 4 \n",
    "    2 3 4 5\n",
    "    2 3 5\n",
    "    2 4 \n",
    "    2 4 5\n",
    "    2 5\n",
    "    3 \n",
    "    3 4 \n",
    "    3 4 5\n",
    "    3 5\n",
    "    4\n",
    "    4 5\n",
    "    5\n",
    "   \n",
    "    "
   ]
  }
 ],
 "metadata": {
  "kernelspec": {
   "display_name": "Python 3",
   "language": "python",
   "name": "python3"
  },
  "language_info": {
   "codemirror_mode": {
    "name": "ipython",
    "version": 3
   },
   "file_extension": ".py",
   "mimetype": "text/x-python",
   "name": "python",
   "nbconvert_exporter": "python",
   "pygments_lexer": "ipython3",
   "version": "3.6.7"
  }
 },
 "nbformat": 4,
 "nbformat_minor": 2
}
